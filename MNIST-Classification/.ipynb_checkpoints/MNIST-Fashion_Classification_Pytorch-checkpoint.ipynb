{
 "cells": [
  {
   "cell_type": "code",
   "execution_count": 168,
   "metadata": {},
   "outputs": [],
   "source": [
    "import pandas as pd\n",
    "import numpy as np\n",
    "import matplotlib.pyplot as plt\n",
    "import torch\n",
    "import os\n",
    "import torch\n",
    "from torch import nn, optim\n",
    "from torch.optim import lr_scheduler\n",
    "from torch.autograd import Variable\n",
    "import torchvision\n",
    "from torchvision import datasets, models, transforms\n",
    "from torch.utils.data.sampler import SubsetRandomSampler\n",
    "import torch.nn as nn\n",
    "import torch.nn.functional as F\n",
    "from torch.utils.data import Dataset, DataLoader\n",
    "from PIL import Image"
   ]
  },
  {
   "cell_type": "code",
   "execution_count": 169,
   "metadata": {},
   "outputs": [
    {
     "name": "stdout",
     "output_type": "stream",
     "text": [
      "   label  pixel1  pixel2  pixel3  pixel4  pixel5  pixel6  pixel7  pixel8  \\\n",
      "0      2       0       0       0       0       0       0       0       0   \n",
      "1      9       0       0       0       0       0       0       0       0   \n",
      "2      6       0       0       0       0       0       0       0       5   \n",
      "3      0       0       0       0       1       2       0       0       0   \n",
      "4      3       0       0       0       0       0       0       0       0   \n",
      "\n",
      "   pixel9  ...  pixel775  pixel776  pixel777  pixel778  pixel779  pixel780  \\\n",
      "0       0  ...         0         0         0         0         0         0   \n",
      "1       0  ...         0         0         0         0         0         0   \n",
      "2       0  ...         0         0         0        30        43         0   \n",
      "3       0  ...         3         0         0         0         0         1   \n",
      "4       0  ...         0         0         0         0         0         0   \n",
      "\n",
      "   pixel781  pixel782  pixel783  pixel784  \n",
      "0         0         0         0         0  \n",
      "1         0         0         0         0  \n",
      "2         0         0         0         0  \n",
      "3         0         0         0         0  \n",
      "4         0         0         0         0  \n",
      "\n",
      "[5 rows x 785 columns]\n"
     ]
    }
   ],
   "source": [
    "train_data=pd.read_csv(\"fashion-mnist_train.csv\")\n",
    "test_data=pd.read_csv('fashion-mnist_test.csv')\n",
    "\n",
    "print(train_data.head())"
   ]
  },
  {
   "cell_type": "code",
   "execution_count": 170,
   "metadata": {},
   "outputs": [],
   "source": [
    "labels=['T-shirt/top'\n",
    ",'Trouser'\n",
    ",'Pullover'\n",
    ",'Dress'\n",
    ",'Coat'\n",
    ",'Sandal'\n",
    ",'Shirt'\n",
    ",'Sneaker'\n",
    ",'Bag'\n",
    ",'Ankle boot']"
   ]
  },
  {
   "cell_type": "code",
   "execution_count": 171,
   "metadata": {},
   "outputs": [],
   "source": [
    "y_train=train_data['label']\n",
    "train_data=train_data.drop('label',axis='columns')\n",
    "\n",
    "y_test=test_data['label']\n",
    "test_data=test_data.drop('label',axis='columns')\n",
    "\n",
    "\n"
   ]
  },
  {
   "cell_type": "code",
   "execution_count": 172,
   "metadata": {},
   "outputs": [
    {
     "name": "stdout",
     "output_type": "stream",
     "text": [
      "(60000, 784)\n"
     ]
    }
   ],
   "source": [
    "print(train_data.shape)"
   ]
  },
  {
   "cell_type": "code",
   "execution_count": 173,
   "metadata": {},
   "outputs": [],
   "source": [
    "X_train=np.array(train_data).astype('float32')\n",
    "X_test=np.array(test_data).astype('float32')\n",
    "\n"
   ]
  },
  {
   "cell_type": "code",
   "execution_count": 174,
   "metadata": {},
   "outputs": [],
   "source": [
    "train_images=X_train.reshape(60000,28,28)\n",
    "test_images=X_test.reshape(10000,28,28)\n",
    "\n",
    "train_images=train_images/255.\n",
    "test_images=test_images/255.\n",
    "\n",
    "\n",
    "\n",
    "\n",
    "\n"
   ]
  },
  {
   "cell_type": "code",
   "execution_count": 175,
   "metadata": {},
   "outputs": [
    {
     "data": {
      "image/png": "[encoded data removed]",
      "text/plain": [
       "<Figure size 432x288 with 9 Axes>"
      ]
     },
     "metadata": {
      "needs_background": "light"
     },
     "output_type": "display_data"
    }
   ],
   "source": [
    "for i in range(9):\n",
    "    plt.subplot(3,3,(i+1))\n",
    "    plt.imshow(train_images[i][:,:])\n",
    "    plt.title(labels[y_train[i]])\n",
    "    "
   ]
  },
  {
   "cell_type": "code",
   "execution_count": 176,
   "metadata": {},
   "outputs": [],
   "source": [
    "class FashionDataset(Dataset):\n",
    "    def __init__(self,source,transform=None):\n",
    "        self.transform=transform\n",
    "        self.dataset=pd.read_csv(source)\n",
    "        \n",
    "        self.labels=self.dataset.label.values\n",
    "        self.images=self.dataset.iloc[:,1:].values.astype('uint8').reshape(-1,28,28)\n",
    "        \n",
    "    def __len__(self):\n",
    "        return len(self.images)\n",
    "        \n",
    "    def __getitem__(self,idx):\n",
    "        label=self.labels[idx]\n",
    "        image=Image.fromarray(self.images[idx])\n",
    "        \n",
    "\n",
    "        if self.transform :\n",
    "            image=self.transform(image)\n",
    "\n",
    "        return image,label\n",
    "        \n",
    "    \n",
    "\n",
    "        "
   ]
  },
  {
   "cell_type": "code",
   "execution_count": 177,
   "metadata": {},
   "outputs": [
    {
     "data": {
      "image/png": "[encoded data removed]",
      "text/plain": [
       "<PIL.Image.Image image mode=L size=28x28 at 0x1A251678188>"
      ]
     },
     "execution_count": 177,
     "metadata": {},
     "output_type": "execute_result"
    }
   ],
   "source": [
    "dataset = FashionDataset(\"fashion-mnist_train.csv\")\n",
    "dataset[0][0]\n",
    "\n"
   ]
  },
  {
   "cell_type": "code",
   "execution_count": 178,
   "metadata": {},
   "outputs": [],
   "source": [
    "transform=transforms.Compose([transforms.ToTensor(),transforms.Normalize((0.5,), (0.5,))])\n",
    "\n",
    "train_set= FashionDataset(\"fashion-mnist_train.csv\",transform=transform)\n",
    "test_set=FashionDataset(\"fashion-mnist_test.csv\",transform=transform)"
   ]
  },
  {
   "cell_type": "code",
   "execution_count": 179,
   "metadata": {},
   "outputs": [
    {
     "data": {
      "text/plain": [
       "device(type='cuda')"
      ]
     },
     "execution_count": 179,
     "metadata": {},
     "output_type": "execute_result"
    }
   ],
   "source": [
    "device=torch.device(\"cuda\" if torch.cuda.is_available() else \"cpy\")\n",
    "device"
   ]
  },
  {
   "cell_type": "code",
   "execution_count": 180,
   "metadata": {},
   "outputs": [],
   "source": [
    "trainLoader=DataLoader(train_set,batch_size=4,shuffle=True)\n",
    "testLoader=DataLoader(test_set,batch_size=4,shuffle=True)\n"
   ]
  },
  {
   "cell_type": "code",
   "execution_count": null,
   "metadata": {},
   "outputs": [],
   "source": []
  },
  {
   "cell_type": "code",
   "execution_count": 182,
   "metadata": {},
   "outputs": [],
   "source": [
    "classes = ('T-Shirt','Trouser','Pullover','Dress','Coat','Sandal','Shirt','Sneaker','Bag','Ankle Boot')"
   ]
  },
  {
   "cell_type": "code",
   "execution_count": 183,
   "metadata": {},
   "outputs": [],
   "source": [
    "class Net(nn.Module):\n",
    "    def __init__(self):\n",
    "        super(Net,self).__init__()\n",
    "        self.cnn=nn.Sequential(\n",
    "            nn.Conv2d(1,6,kernel_size=5),\n",
    "            nn.ReLU(),\n",
    "            nn.AvgPool2d(2,stride=2),\n",
    "            nn.Conv2d(6,16,kernel_size=5),\n",
    "            nn.ReLU(),\n",
    "            nn.AvgPool2d(2,stride=2)\n",
    "        )\n",
    "        \n",
    "        self.Fc=nn.Sequential(\n",
    "        nn.Linear(256,120),\n",
    "        nn.ReLU(),\n",
    "        nn.Linear(120,84),\n",
    "        nn.ReLU(),\n",
    "        nn.Linear(84,10)\n",
    "        )\n",
    "        \n",
    "    def forward(self,x):\n",
    "        x=self.cnn(x)\n",
    "        x=x.view(x.size(0),-1)\n",
    "        x=self.Fc(x)\n",
    "        return x"
   ]
  },
  {
   "cell_type": "code",
   "execution_count": 184,
   "metadata": {},
   "outputs": [
    {
     "data": {
      "text/plain": [
       "Net(\n",
       "  (cnn): Sequential(\n",
       "    (0): Conv2d(1, 6, kernel_size=(5, 5), stride=(1, 1))\n",
       "    (1): ReLU()\n",
       "    (2): AvgPool2d(kernel_size=2, stride=2, padding=0)\n",
       "    (3): Conv2d(6, 16, kernel_size=(5, 5), stride=(1, 1))\n",
       "    (4): ReLU()\n",
       "    (5): AvgPool2d(kernel_size=2, stride=2, padding=0)\n",
       "  )\n",
       "  (Fc): Sequential(\n",
       "    (0): Linear(in_features=256, out_features=120, bias=True)\n",
       "    (1): ReLU()\n",
       "    (2): Linear(in_features=120, out_features=84, bias=True)\n",
       "    (3): ReLU()\n",
       "    (4): Linear(in_features=84, out_features=10, bias=True)\n",
       "  )\n",
       ")"
      ]
     },
     "execution_count": 184,
     "metadata": {},
     "output_type": "execute_result"
    }
   ],
   "source": [
    "model=Net()\n",
    "model.to(device)"
   ]
  },
  {
   "cell_type": "code",
   "execution_count": 197,
   "metadata": {},
   "outputs": [],
   "source": [
    "loss_fn=nn.CrossEntropyLoss()\n",
    "optimizer=optim.Adam(model.parameters(),lr=0.1)\n"
   ]
  },
  {
   "cell_type": "code",
   "execution_count": 198,
   "metadata": {},
   "outputs": [],
   "source": [
    "def evaluation(dataloader):\n",
    "    total=0\n",
    "    correct=0\n",
    "    model.eval()\n",
    "    for data in dataloader:\n",
    "        inputs,labels=data\n",
    "        inputs=inputs.to(device)\n",
    "        labels=labels.to(device)\n",
    "        \n",
    "        outputs=model(inputs)\n",
    "        _,topi= torch.max(outputs.data,1)\n",
    "        \n",
    "        total+=labels.size(0)\n",
    "        correct+=(pred==labels).sum().item()\n",
    "        return 100*correct/total"
   ]
  },
  {
   "cell_type": "code",
   "execution_count": 199,
   "metadata": {},
   "outputs": [],
   "source": [
    "\n",
    "def train(model,dataloader,epochs,optimizer,loss_fn):\n",
    "    losses=[]\n",
    "    loss_epoch=[]\n",
    "    \n",
    "    for epoch in range(epochs):\n",
    "        for data in dataloader:\n",
    "            \n",
    "            model.train()\n",
    "            inputs,labels=data\n",
    "            inputs=inputs.to(device)\n",
    "            labels=labels.to(device)\n",
    "            opt.zero_grad()\n",
    "            outputs=model(inputs)\n",
    "            loss=loss_fn(outputs,labels)\n",
    "            loss.backward()\n",
    "            \n",
    "            optimizer.step()\n",
    "            losses.append(loss.item())\n",
    "            \n",
    "\n",
    "        loss_epoch.append(loss.item())\n",
    "        print(\"Epoch {}  Train Loss {} \".format(epoch,loss.item()))\n",
    "        if (epoch+1)%1==0:\n",
    "            torch.save(model ,'fashion_mnist.pt')\n",
    "            \n",
    "    return losses, loss_epochs\n",
    "\n",
    "            \n",
    "            \n",
    "    "
   ]
  },
  {
   "cell_type": "code",
   "execution_count": null,
   "metadata": {},
   "outputs": [
    {
     "name": "stdout",
     "output_type": "stream",
     "text": [
      "Epoch 0  Train Loss 155.64637756347656 \n",
      "Epoch 1  Train Loss 135.43716430664062 \n"
     ]
    }
   ],
   "source": [
    "train(model,trainLoader,10,optimizer,loss_fn)\n",
    "\n"
   ]
  },
  {
   "cell_type": "code",
   "execution_count": null,
   "metadata": {},
   "outputs": [],
   "source": [
    "evaluation(testloader)"
   ]
  }
 ],
 "metadata": {
  "kernelspec": {
   "display_name": "Python 3",
   "language": "python",
   "name": "python3"
  },
  "language_info": {
   "codemirror_mode": {
    "name": "ipython",
    "version": 3
   },
   "file_extension": ".py",
   "mimetype": "text/x-python",
   "name": "python",
   "nbconvert_exporter": "python",
   "pygments_lexer": "ipython3",
   "version": "3.7.4"
  }
 },
 "nbformat": 4,
 "nbformat_minor": 2
}
