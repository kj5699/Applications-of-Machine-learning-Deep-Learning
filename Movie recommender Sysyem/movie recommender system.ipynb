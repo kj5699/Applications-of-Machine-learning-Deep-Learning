{
 "cells": [
  {
   "cell_type": "code",
   "execution_count": 42,
   "metadata": {
    "collapsed": true
   },
   "outputs": [],
   "source": [
    "import numpy as np\n",
    "import pandas as pd"
   ]
  },
  {
   "cell_type": "code",
   "execution_count": 43,
   "metadata": {},
   "outputs": [
    {
     "name": "stdout",
     "output_type": "stream",
     "text": [
      "       userid  itemid  rating  timestamp\n",
      "0         196     242       3  881250949\n",
      "1         186     302       3  891717742\n",
      "2          22     377       1  878887116\n",
      "3         244      51       2  880606923\n",
      "4         166     346       1  886397596\n",
      "5         298     474       4  884182806\n",
      "6         115     265       2  881171488\n",
      "7         253     465       5  891628467\n",
      "8         305     451       3  886324817\n",
      "9           6      86       3  883603013\n",
      "10         62     257       2  879372434\n",
      "11        286    1014       5  879781125\n",
      "12        200     222       5  876042340\n",
      "13        210      40       3  891035994\n",
      "14        224      29       3  888104457\n",
      "15        303     785       3  879485318\n",
      "16        122     387       5  879270459\n",
      "17        194     274       2  879539794\n",
      "18        291    1042       4  874834944\n",
      "19        234    1184       2  892079237\n",
      "20        119     392       4  886176814\n",
      "21        167     486       4  892738452\n",
      "22        299     144       4  877881320\n",
      "23        291     118       2  874833878\n",
      "24        308       1       4  887736532\n",
      "25         95     546       2  879196566\n",
      "26         38      95       5  892430094\n",
      "27        102     768       2  883748450\n",
      "28         63     277       4  875747401\n",
      "29        160     234       5  876861185\n",
      "...       ...     ...     ...        ...\n",
      "99970     449     120       1  879959573\n",
      "99971     661     762       2  876037121\n",
      "99972     721     874       3  877137447\n",
      "99973     821     151       4  874792889\n",
      "99974     764     596       3  876243046\n",
      "99975     537     443       3  886031752\n",
      "99976     618     628       2  891308019\n",
      "99977     487     291       3  883445079\n",
      "99978     113     975       5  875936424\n",
      "99979     943     391       2  888640291\n",
      "99980     864     685       4  888891900\n",
      "99981     750     323       3  879445877\n",
      "99982     279      64       1  875308510\n",
      "99983     646     750       3  888528902\n",
      "99984     654     370       2  887863914\n",
      "99985     617     582       4  883789294\n",
      "99986     913     690       3  880824288\n",
      "99987     660     229       2  891406212\n",
      "99988     421     498       4  892241344\n",
      "99989     495    1091       4  888637503\n",
      "99990     806     421       4  882388897\n",
      "99991     676     538       4  892685437\n",
      "99992     721     262       3  877137285\n",
      "99993     913     209       2  881367150\n",
      "99994     378      78       3  880056976\n",
      "99995     880     476       3  880175444\n",
      "99996     716     204       5  879795543\n",
      "99997     276    1090       1  874795795\n",
      "99998      13     225       2  882399156\n",
      "99999      12     203       3  879959583\n",
      "\n",
      "[100000 rows x 4 columns]\n"
     ]
    }
   ],
   "source": [
    "Header=[\"userid\",\"itemid\",\"rating\",\"timestamp\"]\n",
    "df=pd.read_csv(\"u.data\",sep=\"\\t\",names=Header)\n",
    "\n",
    "print(df)\n"
   ]
  },
  {
   "cell_type": "code",
   "execution_count": null,
   "metadata": {
    "collapsed": true
   },
   "outputs": [],
   "source": []
  },
  {
   "cell_type": "code",
   "execution_count": 44,
   "metadata": {},
   "outputs": [
    {
     "name": "stdout",
     "output_type": "stream",
     "text": [
      "No of users:  943\n",
      "No of items:  1682\n"
     ]
    }
   ],
   "source": [
    "nuser=df.userid.unique().shape[0]\n",
    "nitem=df.itemid.unique().shape[0]\n",
    "\n",
    "print(\"No of users: \",nuser)\n",
    "print(\"No of items: \",nitem)"
   ]
  },
  {
   "cell_type": "code",
   "execution_count": 45,
   "metadata": {},
   "outputs": [
    {
     "name": "stdout",
     "output_type": "stream",
     "text": [
      "Train data Shape: (75000, 4)\n",
      "Test data Shape: (25000, 4)\n"
     ]
    }
   ],
   "source": [
    "from sklearn.model_selection import train_test_split\n",
    "train_data,test_data= train_test_split(df, test_size = 0.25, random_state = 0)\n",
    "print(\"Train data Shape:\" ,train_data.shape)\n",
    "print(\"Test data Shape:\" ,test_data.shape)\n"
   ]
  },
  {
   "cell_type": "code",
   "execution_count": 46,
   "metadata": {
    "collapsed": true
   },
   "outputs": [],
   "source": [
    "data_matrix=np.zeros((nuser,nitem))\n",
    "for line in df.itertuples():\n",
    "    data_matrix[line[1]-1,line[2]-1]=line[3]"
   ]
  },
  {
   "cell_type": "code",
   "execution_count": 47,
   "metadata": {},
   "outputs": [
    {
     "name": "stdout",
     "output_type": "stream",
     "text": [
      "Train_matrix data Shape: (943, 1682)\n",
      "Test matrix data Shape: (943, 1682)\n"
     ]
    }
   ],
   "source": [
    "train_data_matrix=np.zeros((nuser,nitem))\n",
    "for line in train_data.itertuples():\n",
    "    train_data_matrix[line[1]-1,line[2]-1]=line[3]\n",
    "    \n",
    "test_data_matrix=np.zeros((nuser,nitem))\n",
    "for line in test_data.itertuples():\n",
    "    test_data_matrix[line[1]-1,line[2]-1]=line[3]\n",
    "print(\"Train_matrix data Shape:\" ,train_data_matrix.shape)\n",
    "print(\"Test matrix data Shape:\" ,test_data_matrix.shape)"
   ]
  },
  {
   "cell_type": "code",
   "execution_count": 48,
   "metadata": {},
   "outputs": [
    {
     "name": "stdout",
     "output_type": "stream",
     "text": [
      "User_similarity_matrix shape: (943, 943)\n",
      "Item_similarity_matrix shape: (1682, 1682)\n"
     ]
    }
   ],
   "source": [
    "from sklearn.metrics.pairwise import pairwise_distances\n",
    "user_similarity=pairwise_distances(train_data_matrix,metric=\"cosine\")\n",
    "item_similarity=pairwise_distances(train_data_matrix.T,metric=)\n",
    "print(\"User_similarity_matrix shape:\" ,user_similarity.shape)\n",
    "print(\"Item_similarity_matrix shape:\" ,item_similarity.shape)"
   ]
  },
  {
   "cell_type": "code",
   "execution_count": 49,
   "metadata": {
    "collapsed": true
   },
   "outputs": [],
   "source": [
    "from sklearn.metrics import mean_squared_error\n",
    "from math import sqrt\n",
    "\n",
    "def rmse(prediction,ground_truth):\n",
    "    prediction=prediction[ground_truth.nonzero()].flatten()\n",
    "    ground_truth=ground_truth[ground_truth.nonzero()].flatten()\n",
    "    return sqrt(mean_squared_error(prediction,ground_truth))"
   ]
  },
  {
   "cell_type": "code",
   "execution_count": 50,
   "metadata": {},
   "outputs": [
    {
     "name": "stdout",
     "output_type": "stream",
     "text": [
      "User_prediction_normal shape: (943, 1682)\n",
      "Item_similarity_normal shape: (943, 1682)\n",
      "3.25862779481473\n",
      "3.4472573910990616\n"
     ]
    }
   ],
   "source": [
    "def prediction_normal(rating,similarity,type=\"user\"):\n",
    "    if type==\"user\":\n",
    "        \n",
    "        pred=similarity.dot(rating)/np.array([np.abs(similarity).sum(axis=1)]).T\n",
    "        \n",
    "    elif type==\"item\":\n",
    "        pred=rating.dot(similarity)/np.array([np.abs(similarity).sum(axis=1)])\n",
    "    \n",
    "    return pred\n",
    "item_prediction_normal=prediction_normal(train_data_matrix,item_similarity,type=\"item\")\n",
    "user_prediction_normal=prediction_normal(train_data_matrix,user_similarity,type=\"user\")\n",
    "\n",
    "\n",
    "\n",
    "print(\"User_prediction_normal shape:\" ,user_prediction_normal.shape)\n",
    "print(\"Item_similarity_normal shape:\" ,item_prediction_normal.shape)\n",
    "\n",
    "print(rmse(user_prediction_normal,test_data_matrix))\n",
    "\n",
    "\n",
    "\n",
    "print(rmse(item_prediction_normal,test_data_matrix))\n",
    "\n",
    "\n",
    "\n"
   ]
  },
  {
   "cell_type": "code",
   "execution_count": 51,
   "metadata": {},
   "outputs": [
    {
     "name": "stdout",
     "output_type": "stream",
     "text": [
      "User_prediction__topk shape: (943, 1682)\n",
      "Item_similarity_topk shape: (943, 1682)\n",
      "3.611287648859212\n",
      "3.674005959885108\n"
     ]
    }
   ],
   "source": [
    "def prediction_topk(rating,similarity,type=\"user\",k=40):\n",
    "    pred=np.zeros((nuser,nitem))\n",
    "    if type==\"user\":\n",
    "        for i in range(nuser):\n",
    "            topkuser=[np.argsort(similarity[:,i])[:-40-1:-1]]\n",
    "            for j in range(nitem):\n",
    "                pred[i,j]=similarity[i,:][topkuser].dot(rating[:,j][topkuser])/np.sum(np.array([np.abs(similarity[i,:][topkuser])]).T)\n",
    "    if type==\"item\":\n",
    "        for j in range(nitem):\n",
    "            topkuser=[np.argsort(similarity[:,j])[:-k-1:-1]]\n",
    "            for i in range(nuser):\n",
    "                pred[i,j]=similarity[j,:][topkuser].dot(rating[i,:][topkuser])/np.sum(np.array([np.abs(similarity[i,:][topkuser])]))       \n",
    "    return pred\n",
    "\n",
    "\n",
    "\n",
    "\n",
    "\n",
    "item_prediction_topk=prediction_topk(train_data_matrix,item_similarity,type=\"item\")\n",
    "user_prediction_topk=prediction_topk(train_data_matrix,user_similarity,type=\"user\")\n",
    "print(\"User_prediction__topk shape:\" ,user_prediction_topk.shape)\n",
    "print(\"Item_similarity_topk shape:\" ,item_prediction_topk.shape)\n",
    "\n",
    "print(rmse(user_prediction_topk,test_data_matrix))\n",
    "\n",
    "\n",
    "\n",
    "print(rmse(item_prediction_topk,test_data_matrix))\n",
    "\n",
    "\n"
   ]
  },
  {
   "cell_type": "code",
   "execution_count": 52,
   "metadata": {},
   "outputs": [
    {
     "name": "stdout",
     "output_type": "stream",
     "text": [
      "User_prediction__nobias shape: (943, 1682)\n",
      "Item_similarity_nobias shape: (943, 1682)\n",
      "3.120061571425749\n",
      "3.4472573910990616\n"
     ]
    }
   ],
   "source": [
    "def prediction_nobias(rating,similarity,type=\"user\"):\n",
    "    if type==\"user\":\n",
    "        mean_rating=rating.mean(axis=1)\n",
    "        rating_diff=rating-mean_rating[:,np.newaxis]\n",
    "        pred=mean_rating[:,np.newaxis]+similarity.dot(rating_diff)/np.array([np.abs(similarity).sum(axis=1)]).T\n",
    "        \n",
    "    elif type==\"item\":\n",
    "        pred=rating.dot(similarity)/np.array([np.abs(similarity).sum(axis=1)])\n",
    "    \n",
    "    return pred\n",
    "\n",
    "\n",
    "item_prediction_nobias=prediction_nobias(train_data_matrix,item_similarity,type=\"item\")\n",
    "user_prediction_nobias=prediction_nobias(train_data_matrix,user_similarity,type=\"user\")\n",
    "\n",
    "print(\"User_prediction__nobias shape:\" ,user_prediction_nobias.shape)\n",
    "print(\"Item_similarity_nobias shape:\" ,item_prediction_nobias.shape)\n",
    "\n",
    "\n",
    "print(rmse(user_prediction_nobias,test_data_matrix))\n",
    "\n",
    "\n",
    "\n",
    "print(rmse(item_prediction_nobias,test_data_matrix))\n"
   ]
  },
  {
   "cell_type": "code",
   "execution_count": 53,
   "metadata": {},
   "outputs": [
    {
     "name": "stdout",
     "output_type": "stream",
     "text": [
      "GoldenEye (1995)\n",
      "Muppet Treasure Island (1996)\n"
     ]
    }
   ],
   "source": [
    "\n",
    "\n",
    "idx_to_movie = {}\n",
    "with open('u.item', 'r',encoding = \"ISO-8859-1\") as f:\n",
    "    for line in f.readlines():\n",
    "        info = line.split('|')\n",
    "        idx_to_movie[int(info[0])-1] = info[1]\n",
    "        \n",
    "print(idx_to_movie[1])\n",
    "print(idx_to_movie[20])"
   ]
  },
  {
   "cell_type": "code",
   "execution_count": 54,
   "metadata": {
    "collapsed": true
   },
   "outputs": [],
   "source": [
    "def top_k_movies(similarity, mapper, movie_idx, k=6):\n",
    "    return [mapper[x] for x in np.argsort(similarity[movie_idx,:])[:-k-1:-1]]\n",
    "\n",
    "\n",
    "\n"
   ]
  },
  {
   "cell_type": "code",
   "execution_count": 55,
   "metadata": {},
   "outputs": [
    {
     "name": "stdout",
     "output_type": "stream",
     "text": [
      "Movie related to\n",
      " Toy Story (1995) : \n",
      "\n",
      "(\"Enfer, L' (1994)\", 'Here Comes Cookie (1935)', 'Vermont Is For Lovers (1992)', 'Careful (1992)', 'Man from Down Under, The (1943)', 'Daens (1992)') \n",
      "\n",
      "Movie related to\n",
      " GoldenEye (1995) : \n",
      "\n",
      "('Firestorm (1998)', 'Bloody Child, The (1996)', \"Gone Fishin' (1997)\", 'Thousand Acres, A (1997)', 'Tie That Binds, The (1995)', 'Smile Like Yours, A (1997)') \n",
      "\n",
      "Movie related to\n",
      " Four Rooms (1995) : \n",
      "\n",
      "('Truman Show, The (1998)', 'For the Moment (1994)', 'Open Season (1996)', 'August (1996)', 'Boys (1996)', 'Blood Beach (1981)') \n",
      "\n",
      "Movie related to\n",
      " Muppet Treasure Island (1996) : \n",
      "\n",
      "('Scream of Stone (Schrei aus Stein) (1991)', 'Hotel de Love (1996)', 'Hollow Reed (1996)', 'Losing Chase (1996)', 'Bonheur, Le (1965)', 'Second Jungle Book: Mowgli & Baloo, The (1997)') \n",
      "\n",
      "Movie related to\n",
      " Billy Madison (1995) : \n",
      "\n",
      "('Scream of Stone (Schrei aus Stein) (1991)', 'Designated Mourner, The (1997)', 'Life with Mikey (1993)', 'Love in the Afternoon (1957)', 'Free Willy 3: The Rescue (1997)', 'Red Rock West (1992)') \n",
      "\n"
     ]
    }
   ],
   "source": [
    "idx = [0,1,2,20,40] \n",
    "for i in idx:\n",
    "    movies = top_k_movies(item_similarity, idx_to_movie, movie_idx=i)\n",
    "    names = tuple(movie for movie in movies)\n",
    "    print(\"Movie related to\\n\",idx_to_movie[i],\": \\n\")\n",
    "    print(names,\"\\n\")"
   ]
  },
  {
   "cell_type": "code",
   "execution_count": 56,
   "metadata": {},
   "outputs": [
    {
     "name": "stdout",
     "output_type": "stream",
     "text": [
      "1\n",
      "[20, 'M', 'writer']\n"
     ]
    }
   ],
   "source": [
    "idx_to_user= {}\n",
    "with open('u.user', 'r',encoding = \"ISO-8859-1\") as f:\n",
    "    for line in f.readlines():\n",
    "        info = line.split('|')\n",
    "        idx_to_user[int(info[0])-1] = [int(info[0])-1,info[2],info[3]]\n",
    "print(idx_to_user[1][0])\n",
    "print(idx_to_user[20])\n"
   ]
  },
  {
   "cell_type": "code",
   "execution_count": 57,
   "metadata": {
    "collapsed": true
   },
   "outputs": [],
   "source": [
    "def top_k_user(similarity, mapper, user_idx, k=6):\n",
    "    return [mapper[x][0] for x in np.argsort(similarity[user_idx,:])[:-k-1:-1]]\n",
    "\n"
   ]
  },
  {
   "cell_type": "code",
   "execution_count": 59,
   "metadata": {},
   "outputs": [
    {
     "name": "stdout",
     "output_type": "stream",
     "text": [
      "Suggested movies to the user on basis of user user similarity\n",
      " 0 : \n",
      "\n",
      "['Air Bud (1997)', 'English Patient, The (1996)', 'Wings of the Dove, The (1997)', 'G.I. Jane (1997)', 'Wedding Singer, The (1998)', 'Money Talks (1997)', 'Life Less Ordinary, A (1997)', 'Ma vie en rose (My Life in Pink) (1997)', 'Letter From Death Row, A (1998)', 'English Patient, The (1996)', 'L.A. Confidential (1997)', 'Wings of the Dove, The (1997)', \"Eve's Bayou (1997)\", 'Sweet Hereafter, The (1997)', 'Four Days in September (1997)', 'Welcome To Sarajevo (1997)', 'English Patient, The (1996)', 'Rosewood (1997)', 'In & Out (1997)', 'Fly Away Home (1996)', 'Mad City (1997)', 'Amistad (1997)', 'Postman, The (1997)', 'Ma vie en rose (My Life in Pink) (1997)', 'Chasing Amy (1997)', 'Big Lebowski, The (1998)', \"Ulee's Gold (1997)\", 'Ice Storm, The (1997)'] \n",
      "\n",
      "Suggested movies to the user on basis of user user similarity\n",
      " 1 : \n",
      "\n",
      "['Searching for Bobby Fischer (1993)', 'Sound of Music, The (1965)', 'Willy Wonka and the Chocolate Factory (1971)', 'Fish Called Wanda, A (1988)', 'Princess Bride, The (1987)', 'Psycho (1960)', 'Blues Brothers, The (1980)', 'Henry V (1989)', 'Amadeus (1984)', 'This Is Spinal Tap (1984)', \"Muriel's Wedding (1994)\", 'Three Musketeers, The (1993)', 'Mary Poppins (1964)', 'Butch Cassidy and the Sundance Kid (1969)', 'Jungle Book, The (1994)', 'Dr. Strangelove or: How I Learned to Stop Worrying and Love the Bomb (1963)', 'Philadelphia Story, The (1940)', 'Vertigo (1958)', 'Rear Window (1954)', 'Sword in the Stone, The (1963)', 'Stand by Me (1986)', 'Strictly Ballroom (1992)', 'Diva (1981)', 'Winnie the Pooh and the Blustery Day (1968)', '12 Angry Men (1957)', 'Apocalypse Now (1979)', 'Godfather: Part II, The (1974)', 'Graduate, The (1967)', 'North by Northwest (1959)', 'Paths of Glory (1957)', 'Braveheart (1995)', 'Silence of the Lambs, The (1991)', 'Mr. Smith Goes to Washington (1939)', 'Empire Strikes Back, The (1980)', 'Sting, The (1973)', 'Field of Dreams (1989)', 'Jerry Maguire (1996)', 'Cinderella (1950)', 'To Kill a Mockingbird (1962)', 'Philadelphia Story, The (1940)', 'North by Northwest (1959)', 'Some Like It Hot (1959)', 'Magnificent Seven, The (1954)', 'Rear Window (1954)', 'It Happened One Night (1934)', 'All About Eve (1950)', \"Singin' in the Rain (1952)\", 'Top Hat (1935)', 'Terminator 2: Judgment Day (1991)', 'Star Trek: The Wrath of Khan (1982)', 'Vertigo (1958)', 'North by Northwest (1959)', 'Some Like It Hot (1959)', 'Casablanca (1942)', 'Maltese Falcon, The (1941)', 'My Fair Lady (1964)', 'Treasure of the Sierra Madre, The (1948)', 'Rear Window (1954)', 'Laura (1944)', 'Manchurian Candidate, The (1962)', 'Arsenic and Old Lace (1944)', \"Singin' in the Rain (1952)\", 'From Dusk Till Dawn (1996)', 'Natural Born Killers (1994)', 'Pulp Fiction (1994)', 'Silence of the Lambs, The (1991)', 'Abyss, The (1989)', 'Psycho (1960)', 'Shining, The (1980)', 'Evil Dead II (1987)', \"Bram Stoker's Dracula (1992)\", 'Nightmare on Elm Street, A (1984)', 'American Werewolf in London, An (1981)', 'Birds, The (1963)', 'Body Snatcher, The (1945)', 'Carrie (1976)', 'Omen, The (1976)', 'Interview with the Vampire (1994)', \"Mary Shelley's Frankenstein (1994)\", 'Body Snatchers (1993)', 'Howling, The (1981)', 'Bride of Frankenstein (1935)', 'Candyman (1992)', 'Braindead (1992)', 'Bad Taste (1987)'] \n",
      "\n",
      "Suggested movies to the user on basis of user user similarity\n",
      " 2 : \n",
      "\n",
      "['Three Colors: White (1994)', 'Wizard of Oz, The (1939)', 'Gone with the Wind (1939)', 'Graduate, The (1967)', 'Patton (1970)', 'Breaking the Waves (1996)', 'Fantasia (1940)', 'Butch Cassidy and the Sundance Kid (1969)', 'Casablanca (1942)', 'Maltese Falcon, The (1941)', 'Bringing Up Baby (1938)', 'African Queen, The (1951)', 'Magnificent Seven, The (1954)', 'Boot, Das (1981)', 'Rear Window (1954)', 'It Happened One Night (1934)', '39 Steps, The (1935)', 'Christmas Carol, A (1938)', 'Once Were Warriors (1994)', 'Postino, Il (1994)', 'Star Wars (1977)', 'Cold Comfort Farm (1995)', 'Shall We Dance? (1996)', 'Men in Black (1997)', 'Sense and Sensibility (1995)', 'Fly Away Home (1996)', 'That Thing You Do! (1996)', 'Fast, Cheap & Out of Control (1997)', 'When We Were Kings (1996)', 'Sling Blade (1996)', 'Rosewood (1997)', 'Braveheart (1995)', 'Crimson Tide (1995)', 'Forrest Gump (1994)', 'Maverick (1994)', 'Firm, The (1993)', 'Fugitive, The (1993)', 'Dances with Wolves (1990)', 'Silence of the Lambs, The (1991)', 'Alien (1979)', 'Blues Brothers, The (1980)', 'Groundhog Day (1993)', 'Back to the Future (1985)', 'Jaws (1975)', 'Jerry Maguire (1996)', 'Hunt for Red October, The (1990)', \"One Flew Over the Cuckoo's Nest (1975)\", 'E.T. the Extra-Terrestrial (1982)', 'Highlander (1986)', 'Gandhi (1982)', 'Being There (1979)', 'Star Wars (1977)', 'Wallace & Gromit: The Best of Aardman Animation (1996)', 'Empire Strikes Back, The (1980)', 'Return of the Jedi (1983)', 'Dead Poets Society (1989)', 'Chasing Amy (1997)', 'Starship Troopers (1997)', 'As Good As It Gets (1997)', 'City of Lost Children, The (1995)', 'From Dusk Till Dawn (1996)', 'Natural Born Killers (1994)', 'Pulp Fiction (1994)', 'Silence of the Lambs, The (1991)', 'Abyss, The (1989)', 'Psycho (1960)', 'Shining, The (1980)', 'Evil Dead II (1987)', \"Bram Stoker's Dracula (1992)\", 'Nightmare on Elm Street, A (1984)', 'American Werewolf in London, An (1981)', 'Birds, The (1963)', 'Body Snatcher, The (1945)', 'Carrie (1976)', 'Omen, The (1976)', 'Interview with the Vampire (1994)', \"Mary Shelley's Frankenstein (1994)\", 'Body Snatchers (1993)', 'Howling, The (1981)', 'Bride of Frankenstein (1935)', 'Candyman (1992)', 'Braindead (1992)', 'Bad Taste (1987)'] \n",
      "\n",
      "Suggested movies to the user on basis of user user similarity\n",
      " 20 : \n",
      "\n",
      "['Richard III (1995)', 'Belle de jour (1967)', 'Madness of King George, The (1994)', 'Four Weddings and a Funeral (1994)', 'Much Ado About Nothing (1993)', 'Remains of the Day, The (1993)', 'Cinema Paradiso (1988)', 'Delicatessen (1991)', 'Clockwork Orange, A (1971)', 'Henry V (1989)', 'Unbearable Lightness of Being, The (1988)', 'Adventures of Priscilla, Queen of the Desert, The (1994)', 'Boot, Das (1981)', 'Tin Drum, The (Blechtrommel, Die) (1979)', 'Rosencrantz and Guildenstern Are Dead (1990)', 'Enchanted April (1991)', 'Othello (1995)', 'Queen Margot (Reine Margot, La) (1994)', 'Diva (1981)', 'Mediterraneo (1991)', 'Tie Me Up! Tie Me Down! (1990)', 'Stonewall (1995)', 'Seven (Se7en) (1995)', 'Braveheart (1995)', 'Pulp Fiction (1994)', 'Jurassic Park (1993)', 'Blade Runner (1982)', 'Terminator 2: Judgment Day (1991)', 'Godfather, The (1972)', 'Aliens (1986)', 'Good, The Bad and The Ugly, The (1966)', 'Alien (1979)', 'Godfather: Part II, The (1974)', 'Last of the Mohicans, The (1992)', 'Butch Cassidy and the Sundance Kid (1969)', 'Magnificent Seven, The (1954)', 'Lawrence of Arabia (1962)', 'Boot, Das (1981)', \"Miller's Crossing (1990)\", 'Alien 3 (1992)', 'Toy Story (1995)', \"Mr. Holland's Opus (1995)\", 'While You Were Sleeping (1995)', 'Lion King, The (1994)', 'Sleepless in Seattle (1993)', 'Aladdin (1992)', 'Sound of Music, The (1965)', 'Princess Bride, The (1987)', 'Bridge on the River Kwai, The (1957)', 'Field of Dreams (1989)', 'Hunt for Red October, The (1990)', 'Miracle on 34th Street (1994)', 'Mission: Impossible (1996)', 'Parent Trap, The (1961)', 'Cinderella (1950)', 'North by Northwest (1959)', 'Bringing Up Baby (1938)', 'Great Escape, The (1963)', 'Ben-Hur (1959)', 'Beauty and the Beast (1991)', 'Fox and the Hound, The (1981)', 'Winnie the Pooh and the Blustery Day (1968)', 'Escape to Witch Mountain (1975)', 'Taxi Driver (1976)', 'Citizen Kane (1941)', 'Nikita (La Femme Nikita) (1990)', 'Kolya (1996)', 'Secrets & Lies (1996)', 'Ice Storm, The (1997)', 'Fantasia (1940)', 'Casablanca (1942)', 'Maltese Falcon, The (1941)', 'Bringing Up Baby (1938)', 'Lawrence of Arabia (1962)', 'Third Man, The (1949)', 'Heavenly Creatures (1994)', 'Ice Storm, The (1997)'] \n",
      "\n",
      "Suggested movies to the user on basis of user user similarity\n",
      " 40 : \n",
      "\n",
      "['Star Wars (1977)', 'Empire Strikes Back, The (1980)', 'Jerry Maguire (1996)', \"My Best Friend's Wedding (1997)\", 'Men in Black (1997)', 'Mother (1996)', 'American President, The (1995)', \"Ulee's Gold (1997)\", 'Ice Storm, The (1997)', 'Alien (1979)', 'Psycho (1960)', 'Jaws (1975)', 'L.A. Confidential (1997)', 'Chasing Amy (1997)', 'Starship Troopers (1997)', 'Scream (1996)', 'Liar Liar (1997)', 'Air Force One (1997)', 'In & Out (1997)', 'Titanic (1997)', 'Conspiracy Theory (1997)', 'Kiss the Girls (1997)', 'Game, The (1997)', 'I Know What You Did Last Summer (1997)', 'Scream 2 (1997)', 'Chasing Amy (1997)', 'Sense and Sensibility (1995)', 'Ice Storm, The (1997)', 'Mrs. Brown (Her Majesty, Mrs. Brown) (1997)', 'Edge, The (1997)', 'Incognito (1997)', 'Jane Eyre (1996)', \"Preacher's Wife, The (1996)\", 'Beautiful Thing (1996)', 'In Love and War (1996)', 'Infinity (1996)', 'For the Moment (1994)', 'Kolya (1996)', 'Full Monty, The (1997)', 'English Patient, The (1996)', 'Ice Storm, The (1997)', 'Wings of the Dove, The (1997)', 'Boogie Nights (1997)', \"Eve's Bayou (1997)\"] \n",
      "\n"
     ]
    }
   ],
   "source": [
    "idx = [0,1,2,20,40] \n",
    "\n",
    "for i in idx:\n",
    "    mov=[]\n",
    "    Users = top_k_user(user_similarity, idx_to_user, user_idx=i)\n",
    "    \n",
    "    for u in Users:\n",
    "        l=np.where(data_matrix[u]==5)[0]\n",
    "        \n",
    "    \n",
    "        for k in l:\n",
    "            mov.append(idx_to_movie[k])\n",
    "    print(\"Suggested movies to the user on basis of user user similarity\\n\",idx_to_user[i][0],\": \\n\")\n",
    "    print(mov,\"\\n\")"
   ]
  },
  {
   "cell_type": "code",
   "execution_count": null,
   "metadata": {
    "collapsed": true
   },
   "outputs": [],
   "source": []
  }
 ],
 "metadata": {
  "kernelspec": {
   "display_name": "Python 3",
   "language": "python",
   "name": "python3"
  },
  "language_info": {
   "codemirror_mode": {
    "name": "ipython",
    "version": 3
   },
   "file_extension": ".py",
   "mimetype": "text/x-python",
   "name": "python",
   "nbconvert_exporter": "python",
   "pygments_lexer": "ipython3",
   "version": "3.6.4"
  }
 },
 "nbformat": 4,
 "nbformat_minor": 2
}
